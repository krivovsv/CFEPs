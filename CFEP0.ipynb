{
 "cells": [
  {
   "cell_type": "markdown",
   "metadata": {},
   "source": [
    "# CFEP0. The cut-based free energy profiles\n",
    "\n",
    "In this series of notebooks we will describe the cut-based free energy profiles (CFEP) and illustrate their usage in analysis of free energy landscapes (FEL), diffusive dynamics, and optimality of reaction coordinates (RC). In particular we will:\n",
    " - Introduce the family of $Z_{C,\\alpha}(x,\\Delta t)$ profiles and describe how they can be computed from reaction coordinate timeseries $r(i\\Delta t)$.\n",
    " - Show how these profiles can be used to compute the conventional, histogram-based, free energy profile $F_H(x)$ and position dependent diffusion coefficient $D(x)$.\n",
    " - Show how the profiles can be used to compute various properties of kinetics, e.g. the equilibrium flux, the mean first passage times, and the mean transition path times.\n",
    " - Show how these profiles, namely $Z_{C,1}(x,\\Delta t)$ can be used to test the optimality of a putative reaction coordinate, i.e., how close this coordinate is to the committor, and which regions of the coordinate are most suboptimal.\n",
    " - Show how a combination of these profiles, namely the $\\theta(x,\\Delta t)$ function, can be used to check how close is the putative reaction coordinate to an eigenvector of the transfer operator, and what regions of the coordinate are most suboptimal."
   ]
  },
  {
   "cell_type": "markdown",
   "metadata": {},
   "source": [
    "#### HFEP\n",
    "Consider first, conventional, histogram based free energy profile. Consider a short segment of trajectory, time-series of reaction coordinate r(t)=[0.1, 0.3, 0.4]. To build the histogram, one divide the coordinate into bins with size $\\Delta x$, count how many times the trajectory visited a particular bin, denoted as $n_{x,x+\\Delta x}$. The partition function, which estimates the probability density equals then $Z_H(x)=n_{x,x+\\Delta x}/\\Delta x$. For the segment of trajectory considered here, one obtains 3 peaks around 0.1, 0.3, and 0.4 of width $\\Delta x$ and height $1/\\Delta x$. The free energy profile equals then $F(x)/kT=-\\ln Z_H(x)$."
   ]
  },
  {
   "cell_type": "markdown",
   "metadata": {},
   "source": [
    "#### CFEP\n",
    "\n",
    "$Z_{C,\\alpha}(x,\\Delta t)$ is computed in the following way. For every transition in the trajectory, from $r(t)$ to $r(t+\\Delta t)$ one adds half the length of the transition to the power $\\alpha$: $|r(t+\\Delta t)-r(t)|^\\alpha/2$ to all the points between $r(t+\\Delta t)$ and $r(t)$. \n",
    "\n",
    "For example, $Z_{C,1}$, for the segment of trajectory considered above, which has two transitions $0.1 \\rightarrow 0.3$ and $0.3 \\rightarrow 0.4$, looks like the following:"
   ]
  },
  {
   "cell_type": "code",
   "execution_count": 1,
   "metadata": {},
   "outputs": [
    {
     "data": {
      "text/html": [
       "<script>\n",
       "code_show=true; \n",
       "function code_toggle() {\n",
       " if (code_show){\n",
       " $('div.input').hide();\n",
       " } else {\n",
       " $('div.input').show();\n",
       " }\n",
       " code_show = !code_show\n",
       "} \n",
       "$( document ).ready(code_toggle);\n",
       "</script>\n",
       "<form action=\"javascript:code_toggle()\"><input type=\"submit\" value=\"The raw code for this Python notebook is by default hidden for easier reading. Click here to toggle on/off the raw code.\"></form>"
      ],
      "text/plain": [
       "<IPython.core.display.HTML object>"
      ]
     },
     "execution_count": 1,
     "metadata": {},
     "output_type": "execute_result"
    }
   ],
   "source": [
    "from IPython.display import HTML\n",
    "\n",
    "HTML('''<script>\n",
    "code_show=true; \n",
    "function code_toggle() {\n",
    " if (code_show){\n",
    " $('div.input').hide();\n",
    " } else {\n",
    " $('div.input').show();\n",
    " }\n",
    " code_show = !code_show\n",
    "} \n",
    "$( document ).ready(code_toggle);\n",
    "</script>\n",
    "<form action=\"javascript:code_toggle()\"><input type=\"submit\" value=\"The raw code for this Python notebook is by default hidden for easier reading. Click here to toggle on/off the raw code.\"></form>''')"
   ]
  },
  {
   "cell_type": "code",
   "execution_count": 2,
   "metadata": {},
   "outputs": [
    {
     "data": {
      "image/png": "[encoded data removed]",
      "text/plain": [
       "<Figure size 432x288 with 1 Axes>"
      ]
     },
     "metadata": {
      "needs_background": "light"
     },
     "output_type": "display_data"
    }
   ],
   "source": [
    "lx=[0.1,0.1,0.3,0.3,0.4,0.4]\n",
    "ly=[0,0.1,0.1,0.05,0.05,0]\n",
    "%matplotlib inline\n",
    "import matplotlib.pyplot as plt\n",
    "plt.xlabel('r')\n",
    "plt.ylabel('$Z_{C,1}$')\n",
    "_=plt.plot(lx,ly)"
   ]
  },
  {
   "cell_type": "markdown",
   "metadata": {},
   "source": [
    "Function comp_Zca from the cfeplib library can be used to compute $Z_{C,\\alpha}(x,\\Delta t)$ for/from an arbitrary trajectory time-series:\n",
    "\n",
    "comp_Zca(lx, a, dt=1, strict=False, dx=1e-3, zcmin=1e-8, mindx=1e-3)\n",
    "\n",
    "Select strict=True to obtain the exact profile; strict=False results in a slightly less accurate profile, computed faster and with output arrays/lists consuming less memory. In particular it happens due to coarse-graining/binning the trajectory with bin size $dx$. \n",
    "\n",
    "zcmin controls the roundoff errors; as zc is always positive, so if zc<zcmin, then zc=0.\n",
    "mindx bounds $\\Delta x^r$ for negative $r$ by providing a lower bound for $\\Delta x$.\n",
    "\n",
    "For the segment of trajectory considered above one obtains the same profile. You can play with trajectory and the function parameters to get familiar with the profiles."
   ]
  },
  {
   "cell_type": "code",
   "execution_count": 3,
   "metadata": {
    "scrolled": true
   },
   "outputs": [
    {
     "data": {
      "image/png": "[encoded data removed]",
      "text/plain": [
       "<Figure size 432x288 with 1 Axes>"
      ]
     },
     "metadata": {
      "needs_background": "light"
     },
     "output_type": "display_data"
    }
   ],
   "source": [
    "from cfeplib import comp_Zca\n",
    "lr=[0.1,0.3,0.4]\n",
    "lx,ly=comp_Zca(lr,a=1,strict=True)\n",
    "plt.xlabel('r')\n",
    "plt.ylabel('$Z_{C,1}$')\n",
    "_=plt.plot(lx,ly)"
   ]
  },
  {
   "cell_type": "markdown",
   "metadata": {},
   "source": [
    "###  Using CFEPs to determine the free energy profile and position dependent diffusion coefficient\n",
    "\n",
    "The free energy profile and diffusion coefficient, $F(r)$ and $D(r)$, completely specify a diffusive model of the dynamics projected on reaction coordinate r. A number of different approaches of various complexity has been suggested to solve the important problem of how to determine $F(r)$ and $D(r)$ in practice. Here we show how these quantities can be determined, rather straightforwardly, using CFEPs. The main assumption is that the trajectory sampling interval $\\Delta t$ is relatively small. \n",
    "\n",
    "Before going further, recall that $Z_{C,\\alpha}(x,\\Delta t)\\approx 1/2 Z_H(x)\\langle |\\Delta x|^{\\alpha+1}\\rangle$ in the regime of small $|\\Delta x|$ or small $\\Delta t$ [1]. In particular for diffusive motion one has [1]:\n",
    " - $Z_{C,0}(x,\\Delta t)=Z_H(x)\\sqrt{D(x) \\Delta t/\\pi}$\n",
    " - $Z_{C,1}(x,\\Delta t)=Z_H(x)D(x) \\Delta t$\n",
    " - $Z_{C,-1}(x,\\Delta t)=Z_H(x)/2$\n",
    " \n",
    "Thus one can determine the free energy profile as\n",
    "$$F_H/kT=-\\ln Z_H(x)=-\\ln 2 Z_{C,-1}(x)$$\n",
    " \n",
    "The diffusion coefficient can be determined as \n",
    "$$D(x)=\\frac{Z_{C,1}(x)}{2 \\Delta t Z_{C,-1}(x)}$$ or \n",
    "$$D(x)=\\frac{\\Delta t}{\\pi}(\\frac{Z_{C,0}(x)}{2 Z_{C,-1}(x)})^2$$\n",
    " \n",
    "Next we illustrate these equations on a model system with position dependent diffusion coefficient. We will use function *comp_diffusion* to compute diffusion trajectory for  drift $f(x)=-x$ and diffusion coefficient $D(x)=(1+\\cos(x))/2$. The trajectory is of 1000000 steps saved with $\\Delta t=0.01$."
   ]
  },
  {
   "cell_type": "code",
   "execution_count": 4,
   "metadata": {
    "code_folding": [
     0
    ],
    "jupyter": {
     "source_hidden": true
    }
   },
   "outputs": [],
   "source": [
    "import math\n",
    "from cfeplib import comp_diffusion_euler\n",
    "\n",
    "# specifying the drift\n",
    "def f(x):\n",
    "    return -x\n",
    "\n",
    "# specifying the diffusion coefficient\n",
    "def D(x):\n",
    "    return (1+math.cos(x))/2\n",
    "\n",
    "dt=0.01\n",
    "import numpy as np\n",
    "np.random.seed(0)\n",
    "traj=comp_diffusion_euler(f,D,dt,1000000)"
   ]
  },
  {
   "cell_type": "markdown",
   "metadata": {},
   "source": [
    "Next, we compute the above CFEPs and use them to estimate the diffusion coefficient."
   ]
  },
  {
   "cell_type": "code",
   "execution_count": 5,
   "metadata": {},
   "outputs": [
    {
     "data": {
      "image/png": "[encoded data removed]",
      "text/plain": [
       "<Figure size 432x288 with 1 Axes>"
      ]
     },
     "metadata": {
      "needs_background": "light"
     },
     "output_type": "display_data"
    }
   ],
   "source": [
    "# compute Z_C,1, Z_C,-1 and Z_C\n",
    "lx1,lzc1=comp_Zca(traj,a=1,dx=0.01)\n",
    "lx2,lzcn1=comp_Zca(traj,a=-1,dx=0.01)\n",
    "lx3,lzc=comp_Zca(traj,a=0,dx=0.01)\n",
    "\n",
    "# compute diffusion coefficient using 1 and 2 equations\n",
    "ld1=[zc1/zcn1/2/dt for zc1,zcn1 in zip(lzc1,lzcn1)]\n",
    "ld2=[(zc/zcn1/2)**2/dt*math.pi for zc,zcn1 in zip(lzc,lzcn1)]\n",
    "\n",
    "# make plot\n",
    "plt.xlabel('x')\n",
    "plt.ylabel('$D$')\n",
    "plt.plot(lx1,ld1,'b',label='$D(x),$ first equation')\n",
    "plt.plot(lx1,ld2,'r',label='$D(x),$ second equation')\n",
    "plt.plot(lx1,[D(x) for x in lx1],'k',label='$D(x),$ correct')\n",
    "plt.legend()\n",
    "plt.xlim(-2,2)\n",
    "_=plt.ylim(0.2,1.2)"
   ]
  },
  {
   "cell_type": "markdown",
   "metadata": {},
   "source": [
    "As one can see, both the estimates are rather close to the true value of the diffusion coefficient $D(x)$. Decreasing $\\Delta t$ improves the agreement.\n",
    "\n",
    "Next we determine the free energy profiles. Free energy profile, corresponding to the equilibrium distribution for the diffusion with drift $f(x)$ and diffusion coefficient $D(x)$ can be found analytically as\n",
    "\n",
    "$$F(x)/kT=\\ln D(x) - \\int \\frac{f(x)}{D(x)}dx$$"
   ]
  },
  {
   "cell_type": "code",
   "execution_count": 6,
   "metadata": {
    "code_folding": [],
    "jupyter": {
     "source_hidden": true
    }
   },
   "outputs": [
    {
     "data": {
      "image/png": "[encoded data removed]",
      "text/plain": [
       "<Figure size 432x288 with 1 Axes>"
      ]
     },
     "metadata": {
      "needs_background": "light"
     },
     "output_type": "display_data"
    }
   ],
   "source": [
    "from cfeplib import comp_Zh\n",
    "\n",
    "dx=0.01\n",
    "# compute and plot F from Z_H\n",
    "lx4,ly4=comp_Zh(traj,dx=dx)\n",
    "lf4=[-math.log(y) for y in ly4]\n",
    "plt.plot(lx4,lf4,'b-',label='$F_H/kT$')\n",
    "\n",
    "# compute and plot F from Z_C,-1\n",
    "lx5,ly5=comp_Zca(traj,a=-1,dx=dx)\n",
    "lf5=[-math.log(2*y) for y in ly5]\n",
    "plt.plot(lx5,lf5,'r-',label='$F_{C,-1}/kT$')\n",
    "\n",
    "\n",
    "# compute and plot analytical free energy profile\n",
    "lx=[i*0.01 for i in range(-300,301)]\n",
    "lD=[D(x) for x in lx]\n",
    "lfD=[-f(x)/D(x) for x in lx]\n",
    "    \n",
    "from scipy.integrate import cumtrapz\n",
    "lI=cumtrapz(lfD,lx,initial=0)\n",
    "lF=[I+math.log(D) for I,D in zip(lI,lD)]\n",
    "\n",
    "# shift F, so that plots conside\n",
    "du=lF[300]-lf5[int(len(lf5)/2)]\n",
    "lF=[u-du for u in lF]\n",
    "\n",
    "plt.plot(lx, lF,'k-',label='$F/kT$')\n",
    "\n",
    "plt.legend()\n",
    "plt.xlabel('x')\n",
    "plt.ylim((-13,-10))\n",
    "plt.xlim((-2,2))\n",
    "_=plt.ylabel('$F/kT$')\n"
   ]
  },
  {
   "cell_type": "markdown",
   "metadata": {},
   "source": [
    "Again, both free energy profiles, estimated from $Z_H$ and $Z_{C,-1}$ are in very good agreement between themselves and with $F(x)$. Decreasing $dx$, increases the spatial resolution of $Z_H$, while increases the statistical noise as well; try, for example, dx=0.001. For $Z_{C,-1}$ small $dx$ do not result in increased noise and one can use as small $dx$ as desirable.\n",
    "\n",
    "The employed sampling interval $\\Delta t = 0.01$ is sufficiently small so that the free energy profile and diffusion coefficient can be estimated with high accuracy. Acceptable estimates can be obtained for larger $\\Delta t$; try, for example, $\\Delta t=0.1$.\n",
    "\n",
    "### In summary,\n",
    "the cut-based free energy profiles $Z_{C,\\alpha}$ can be straightforwardly computed from the reaction coordinate time-series $r(i\\Delta t).$ They can be used to estimate the free energy profile $F(r)$ and the diffusion coefficient $D(r)$, and thus completely specify the diffusive model, describing the dynamics. In the next notebook we show, how the model can be used to compute important properties of the kinetics. "
   ]
  },
  {
   "cell_type": "markdown",
   "metadata": {},
   "source": [
    "### References\n",
    "\n",
    "[1] S. V. Krivov, On Reaction Coordinate Optimality, *Journal of Chemical Theory and Computation* 2013 **9** (1), 135-146 "
   ]
  }
 ],
 "metadata": {
  "kernelspec": {
   "display_name": "Python 3",
   "language": "python",
   "name": "python3"
  },
  "language_info": {
   "codemirror_mode": {
    "name": "ipython",
    "version": 3
   },
   "file_extension": ".py",
   "mimetype": "text/x-python",
   "name": "python",
   "nbconvert_exporter": "python",
   "pygments_lexer": "ipython3",
   "version": "3.9.5"
  }
 },
 "nbformat": 4,
 "nbformat_minor": 4
}
