{
 "cells": [
  {
   "cell_type": "markdown",
   "metadata": {},
   "source": [
    "# CFEP1\n",
    "\n",
    "The free energy profile and diffusion coefficient, $F(r)$ and $D(r)$, completely specify a diffusive model of the dynamics projected on reaction coordinate r. Here we show how they, or rather the related cut profiles, $Z_{C,1}$ and $Z_H$, can be used to compute various properties of dynamics, e.g., the equilibrium flux, the mean first passage times, and the mean transition path times. We will compute and compare these properties computed from the profiles and directly from trajectories.\n",
    "\n",
    "Generally, the properties computed from the profiles and directly from the trajectories should be in agreement. However, in principle, the following sources of error, which lead to difference between them are possible:\n",
    "\n",
    " - the employed reaction coordinate is not good or not optimal. So the diffusive model of the dynamics is not a good model of the actual dynamics projected on the coordinates, e.g., the later is subdiffusive and non-markovian. We consider later how the profiles can be used to check if the employed reaction coordinate is optimal, e.g., to validate the reaction coordinate.\n",
    " - the sampling interval of the trajectory $\\Delta t$ is rather large, so that the simple relations between the profiles and the $F(r)$ and $D(r)$ are not accurate anymore.\n",
    " - the sampling interval of the trajectory $\\Delta t$ is rather large, so that the quantities estimated directly from trajectory sampled with a finite $\\Delta t$ are different from that estimated with infinitesimally small $\\Delta t$, corresponding to the analytical estimates of the diffusion models. For example, in estimating the number of transition between two boundary states, the system may shortly visit a boundary state then quickly come back. Some of such events can be missed if observed/recorded with a relatively large $\\Delta t$.\n",
    "\n",
    "If the reaction coordinate is good and the diffusive model provide an accurate description of the dynamics, and non of the above errors apply, we can expect to estimate accurately various dynamics/kinetics properties. For example, the diffusive model along the committor coordinate can be used to compute the following properties exactly: the equilibrium flux, the mean first passage times, and the mean transition path times between any two points (A and B) along the committor.\n",
    "\n",
    "To define these properties, consider a very long equilibrium trajectory on a configuration space, where two boundary states A and B are defined. The trajectory will visit repeatedly these states, which we represent symbolically as A -> B -> A -> B ... Note that, after visiting state A, the system may visit state A many times, before visiting state B, such repeated visits are discarded. Only first visits A after B and B after A are considered. The equilibrium flux is the number of transitions from A to B or from B to A per unit time, i.e., $N_{AB}/T=N_{BA}/T$, where T is the trajectory length. The mean first passage time, e.g, from A to B,  is the average time required by system to reach B starting from A. A good example, is the mean folding time - the time required for a protein to fold. It can be computed by considering all those segments of trajectories, from the first visit of A till the first visit of B. The total time of such segments should be divided by the total number of such segments $N_{AB}$. The mean transition-path time measures the actual time system takes to go from, say A to B.  It discards all the repeated visits to the same state, i.e, A->A, and considers segments of trajectory from the last visit to A to the first visit of B. The mean time is defined analogously as the total time of such segments should be divided by the total number of such segments $N_{AB}$. In the protein folding, the mean folding time strongly (exponentially) depends on the folding barrier, and varies significantly, depending on the protein. The mean transition-path time, which is much shorter than folding time, on the contrary depends on the barrier height only weakly.\n",
    "\n",
    "Below we consider how to compute these properties using the profiles, and how one can test for the second and third error. As, mentioned above, we discuss the first error later. Here we consider a one-dimensional trajectory of one-dimensional diffusion, i.e., the coordinate is optimal and the first error does not exist.\n",
    "\n",
    "We start with a diffusive motion between two minima with potential $U(x)=1/2 \\cos(x)$; steep potential is imposed outside of the allowed region of $-2<x<2$. We import function from the cfep library to run the diffusion and compute the profiles."
   ]
  },
  {
   "cell_type": "code",
   "execution_count": 1,
   "metadata": {},
   "outputs": [
    {
     "data": {
      "image/png": "[encoded data removed]",
      "text/plain": [
       "<Figure size 432x288 with 1 Axes>"
      ]
     },
     "metadata": {
      "needs_background": "light"
     },
     "output_type": "display_data"
    }
   ],
   "source": [
    "# Import functions\n",
    "from math import sin,cos,pi,log\n",
    "from cfeplib import comp_diffusion_euler, comp_Zca\n",
    "\n",
    "# specify the drift and diffusion coefficient\n",
    "def f(x):\n",
    "    if abs(x)<2:return sin(x*pi)*pi*0.5\n",
    "    return -x*100\n",
    "def D(x):\n",
    "    return 1\n",
    "\n",
    "# run diffusion and compute the profile\n",
    "dt=0.001\n",
    "traj=comp_diffusion_euler(f,D,dt,10000000)\n",
    "lx,ly=comp_Zca(traj,a=-1,dx=0.001)\n",
    "ly=[-log(y) for y in ly]\n",
    "\n",
    "# plot the profile\n",
    "%matplotlib inline\n",
    "import matplotlib.pyplot as plt\n",
    "plt.plot(lx,ly)\n",
    "plt.ylim(-15,-13)\n",
    "plt.ylabel('F/kT')\n",
    "_=plt.xlabel('x')"
   ]
  },
  {
   "cell_type": "markdown",
   "metadata": {},
   "source": [
    "The free energy profile $F/kT(x)$ computed from the MC trajectory reproduces $U(x)$ with good accuracy.\n",
    "\n",
    "\n",
    "We start with the equilibrium flux between two states A and B, which is defined as $J_{AB}=N_{AB}/N\\Delta t_0$, here $N_{AB}$ is the number of transitions made by the trajectory from node A to node B, $N_{AB}=N_{BA}$, and $N\\Delta t_0$ it the total time length of the trajectory. $N_{AB}$ can be computed as \n",
    "$\\frac{1}{N_{AB}}=\\int_{r(A)}^{r(B)} \\frac{dr}{Z_{C,1}(r)}$ [2,3]. \n",
    "\n",
    "We will use two functions, first - to compute $N_{AB}$ from a MC trajectory and second - to compute $N_{AB}$ using the diffusive model."
   ]
  },
  {
   "cell_type": "code",
   "execution_count": 2,
   "metadata": {
    "code_folding": [
     0,
     11
    ]
   },
   "outputs": [
    {
     "name": "stdout",
     "output_type": "stream",
     "text": [
      "1072.0 1109.7066156833348\n"
     ]
    }
   ],
   "source": [
    "def Nab_traj(traj,a,b):\n",
    "    il=None\n",
    "    n=0\n",
    "    for x in traj:\n",
    "        ic=None\n",
    "        if x<a: ic=1\n",
    "        if x>b: ic=2\n",
    "        if ic!=None and il!=None and ic!=il: n+=1\n",
    "        if ic!=None: il=ic\n",
    "    return n/2.\n",
    "        \n",
    "def Nab_model(lx,lzc1,a,b):\n",
    "    lx1=[lx[i] for i in range(len(lx)) if a<lx[i] and lx[i]<b]\n",
    "    ly1=[1/lzc1[i] for i in range(len(lx)) if a<lx[i] and lx[i]<b]\n",
    "    \n",
    "    from scipy.integrate import simps\n",
    "    I=simps(ly1,lx1)\n",
    "    return 1./I\n",
    "\n",
    "a=-1\n",
    "b=1\n",
    "lx1,ly1=comp_Zca(traj,a=1,dx=0.0001)\n",
    "print (Nab_traj(traj,a,b),Nab_model(lx1,ly1,a,b))"
   ]
  },
  {
   "cell_type": "markdown",
   "metadata": {},
   "source": [
    "As one can see the numbers are in good agreement, the difference is about a few %.\n",
    "\n",
    "To see the contribution of each error in the estimates, we recompute them for increasing sampling intervals $\\Delta t$. For that we resample the original trajectory:"
   ]
  },
  {
   "cell_type": "code",
   "execution_count": 3,
   "metadata": {
    "code_folding": []
   },
   "outputs": [
    {
     "name": "stdout",
     "output_type": "stream",
     "text": [
      "1 1072.0 1109.7065642366324\n",
      "2 1066.0 1109.9239328762437\n",
      "3 1065.0 1109.326744416098\n",
      "4 1059.0 1108.6941866889078\n",
      "5 1059.0 1109.8054819321283\n",
      "6 1051.0 1109.272513899766\n",
      "7 1050.0 1110.1407623480134\n",
      "8 1043.0 1110.9417313155507\n",
      "9 1045.0 1109.3999445260656\n",
      "10 1043.0 1112.5951520761669\n"
     ]
    }
   ],
   "source": [
    "for dt in range(1,11):\n",
    "    traj1=[traj[i] for i in range(1,len(traj),dt)]\n",
    "    lx1,ly1=comp_Zca(traj1,a=1,dx=0.0001)\n",
    "    print (dt,Nab_traj(traj1,a,b),Nab_model(lx1,ly1,a,b))    "
   ]
  },
  {
   "cell_type": "markdown",
   "metadata": {},
   "source": [
    "$N_{AB}$ computed with the diffusion model increase by about 1 % when $\\Delta t$ is increased $10$ times. $N_{AB}$ computed directly from trajectory decrease by about 3 %, showing that this error is much larger than the other and is dominant in explaining the difference between the estimates. The errors work in opposite direction: with increasing $\\Delta t$ the diffusive model overestimates $N_{AB}$ while the direct counting underestimates it. One may expect that the error for direct counting will be especially large, when the boundaries of the regions are on the steep slopes of the landscape, so that the system has a high probability to come back the next step. However, for very small $\\Delta t$, the deterministic drift contribution to the random dynamics is expected to be small.\n",
    "\n",
    "We consider also the following boundary states $a,b=\\pm 0.5$ and $a,b=\\pm 1.5$."
   ]
  },
  {
   "cell_type": "code",
   "execution_count": 4,
   "metadata": {},
   "outputs": [
    {
     "name": "stdout",
     "output_type": "stream",
     "text": [
      "1 1597.5 1704.6840221670598\n",
      "2 1577.5 1705.806735826125\n",
      "3 1551.5 1707.4530571637135\n",
      "4 1546.5 1706.35799151983\n",
      "5 1530.5 1710.29647880993\n",
      "6 1520.5 1711.833388270422\n",
      "7 1506.5 1713.5613767487669\n",
      "8 1500.5 1716.3676913964891\n",
      "9 1495.5 1715.6526575809405\n",
      "10 1484.5 1721.9454608179951\n"
     ]
    }
   ],
   "source": [
    "a=-0.5\n",
    "b=0.5\n",
    "\n",
    "for dt in range(1,11):\n",
    "    traj1=[traj[i] for i in range(1,len(traj),dt)]\n",
    "    lx1,ly1=comp_Zca(traj1,a=1,dx=0.0001)\n",
    "    print (dt,Nab_traj(traj1,a,b),Nab_model(lx1,ly1,a,b))    "
   ]
  },
  {
   "cell_type": "code",
   "execution_count": 5,
   "metadata": {},
   "outputs": [
    {
     "name": "stdout",
     "output_type": "stream",
     "text": [
      "1 792.0 822.61337064848\n",
      "2 782.0 822.2193879836497\n",
      "3 780.0 821.7836564417454\n",
      "4 769.0 820.4000047843841\n",
      "5 772.0 820.8620831695794\n",
      "6 768.0 820.4616264327243\n",
      "7 765.0 820.6592735947602\n",
      "8 763.0 820.6422613567819\n",
      "9 772.0 819.376354826626\n",
      "10 762.0 820.6282520438356\n"
     ]
    }
   ],
   "source": [
    "a=-1.5\n",
    "b=1.5\n",
    "\n",
    "for dt in range(1,11):\n",
    "    traj1=[traj[i] for i in range(1,len(traj),dt)]\n",
    "    lx1,ly1=comp_Zca(traj1,a=1,dx=0.0001)\n",
    "    print (dt,Nab_traj(traj1,a,b),Nab_model(lx1,ly1,a,b))    "
   ]
  },
  {
   "cell_type": "markdown",
   "metadata": {},
   "source": [
    "In both cases the largest error seems to be in the direct counting from trajectory. "
   ]
  },
  {
   "cell_type": "markdown",
   "metadata": {},
   "source": [
    "Next we compute the mean first passage time (mfpt) and the mean transition path times (mtpt). The mfpt is the mean time of trajectory to reach one boundary starting from another boundary. We will use the following equation\n",
    "$$\\mathrm{mfpt}_{AB}= \\frac{N\\Delta t}{N_{AB}}\\int dq P_{eq}(q) (1-q)=\\langle 1-q \\rangle / J_{AB},$$ here $q(x)=q_{AB}(x)$ is the committor function to go from A to B [2,3]. The interpretation of the equation is that the mfpt equals time spent by the system in the mfpt ensemble divided by the total number of transitions. The mfpt ensemble AB consists of those segments of trajectory that start in state A and ends in state B, with stationary distribution $P_{AB}=P_{eq}(x)(1-q_{AB}(x))$. Combining with the mfpt ensemble BA (for which $q_{BA}=1-q_{AB}$) one obtains $\\mathrm{mfpt}_{AB}+\\mathrm{mfpt}_{BA}=<1-q>/J_{AB}+<q>/J_{AB}=1/J_{AB}$, the reciprocal of the equilibrium flux - the mean time per transition.\n",
    "\n",
    "The committor function can be computed as [1] $$q_{AB}(x)=\\frac{\\int_A^x dr /Z_{C,1}(r)}{\\int_A^B dr /Z_{C,1}(r)}.$$ \n",
    "\n",
    "Analogously, for the mean transition path times (mtpt), the segments of trajectories starting and ending at the opposite boundaries,  one obtains [2,3]\n",
    "$$\\mathrm{mtpt}_{AB}= \\frac{N\\Delta t}{N_{AB}}\\int dq P_{eq}(q) q(1-q)=\\langle q(1-q) \\rangle / J_{AB}$$. We will employ single functions to compute all these properties."
   ]
  },
  {
   "cell_type": "code",
   "execution_count": 6,
   "metadata": {
    "code_folding": [
     28
    ]
   },
   "outputs": [
    {
     "name": "stdout",
     "output_type": "stream",
     "text": [
      "model: NAB=1109.67, mfpt_AB=4559.77, mftp_BA=4451.88, mtpt=510.724\n",
      "traj:  NAB=1072, mfpt_AB=4718.22, mftp_BA=4607.16, mtpt=543.873\n"
     ]
    }
   ],
   "source": [
    "def fab_model(traj,a,b,dx=0.0001):\n",
    "    lx,lzc1=comp_Zca(traj,1,dx=dx)\n",
    "    lx,lzh=comp_Zca(traj,-1,dx=dx)\n",
    "    from scipy.integrate import cumtrapz,simps\n",
    "    ly=[1/y for y in lzc1]\n",
    "    lq=cumtrapz(ly,lx,initial=0)\n",
    "    lqa=[(abs(x-a),i) for i,x in enumerate(lx)]\n",
    "    lqa.sort()\n",
    "    ia=lqa[0][-1]\n",
    "    qa=lq[ia]\n",
    "    lqb=[(abs(x-b),i) for i,x in enumerate(lx)]\n",
    "    lqb.sort()\n",
    "    ib=lqb[0][-1]\n",
    "    qb=lq[ib]\n",
    "    def qp(q,qa,qb):\n",
    "        if q<qa: return 0\n",
    "        if q>qb: return 1\n",
    "        return (q-qa)/(qb-qa)\n",
    "    lqp=[qp(q,qa,qb) for q in lq]\n",
    "    lind=[1 if a<x and x<b else 0 for x in lx]\n",
    "    nab=1/simps([ind/zc1 for ind,zc1 in zip(lind,lzc1)],lx)\n",
    "    n=len(traj)\n",
    "    ztot=simps(lzh,lx)\n",
    "    mfptab=simps([zh*(1-q) for zh,q in zip(lzh,lqp)],lx)/ztot*n/nab\n",
    "    mfptba=simps([zh*q for zh,q in zip(lzh,lqp)],lx)/ztot*n/nab\n",
    "    mtpt=simps([zh*q*(1-q) for zh,q in zip(lzh,lqp)],lx)/ztot*n/nab\n",
    "    return nab,mfptab,mfptba,mtpt\n",
    "\n",
    "def fab_traj(traj,a,b):\n",
    "    il=None\n",
    "    nab=0\n",
    "    mfptab=0\n",
    "    mfptba=0\n",
    "    mtpt=0\n",
    "    tp=0\n",
    "    fp=0\n",
    "    for i,x in enumerate(traj):\n",
    "        if x<a: \n",
    "            ic=1\n",
    "            if il!=None and ic!=il:\n",
    "                nab=nab+1\n",
    "                mtpt=mtpt+i-tp\n",
    "                mfptba=mfptba+i-fp\n",
    "                fp=i\n",
    "            il=ic\n",
    "            tp=i\n",
    "        if x>b: \n",
    "            ic=2\n",
    "            if il!=None and ic!=il:\n",
    "                nab=nab+1\n",
    "                mtpt=mtpt+i-tp\n",
    "                mfptab=mfptab+i-fp\n",
    "                fp=i\n",
    "            il=ic\n",
    "            tp=i\n",
    "    return nab/2.,2.*mfptab/nab,2.*mfptba/nab,float(mtpt)/nab\n",
    "    \n",
    "a=-1\n",
    "b=1  \n",
    "print('model: NAB=%g, mfpt_AB=%g, mftp_BA=%g, mtpt=%g' %fab_model(traj,a,b))    \n",
    "print('traj:  NAB=%g, mfpt_AB=%g, mftp_BA=%g, mtpt=%g' %fab_traj(traj,a,b))"
   ]
  },
  {
   "cell_type": "markdown",
   "metadata": {},
   "source": [
    "The quantities are in rather good agreement with the difference in the range of a few %. Note, that the times here are given in units of $\\Delta t$."
   ]
  },
  {
   "cell_type": "markdown",
   "metadata": {},
   "source": [
    "### References\n",
    "\n",
    "[1] S. V. Krivov, On Reaction Coordinate Optimality, *Journal of Chemical Theory and Computation* 2013 **9** (1), 135-146 \n",
    "\n",
    "[2] P. V. Banushkina, S. V. Krivov, Optimal Reaction Coordinates, *WIREs Comput. Mol. Sci.* 2016 **6**, 748-763\n",
    "\n",
    "[3] S. V. Krivov, Protein Folding Free Energy Landscape along the Committor - the Optimal Folding Coordinate, *Journal of Chemical Theory and Computation* 2018 **14** (7), 3418-3427"
   ]
  }
 ],
 "metadata": {
  "kernelspec": {
   "display_name": "Python 3",
   "language": "python",
   "name": "python3"
  },
  "language_info": {
   "codemirror_mode": {
    "name": "ipython",
    "version": 3
   },
   "file_extension": ".py",
   "mimetype": "text/x-python",
   "name": "python",
   "nbconvert_exporter": "python",
   "pygments_lexer": "ipython3",
   "version": "3.7.9"
  }
 },
 "nbformat": 4,
 "nbformat_minor": 2
}
